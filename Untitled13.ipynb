{
  "nbformat": 4,
  "nbformat_minor": 0,
  "metadata": {
    "colab": {
      "provenance": []
    },
    "kernelspec": {
      "name": "python3",
      "display_name": "Python 3"
    },
    "language_info": {
      "name": "python"
    }
  },
  "cells": [
    {
      "cell_type": "code",
      "execution_count": null,
      "metadata": {
        "colab": {
          "base_uri": "https://localhost:8080/"
        },
        "id": "Nn2vNwCMk6DT",
        "outputId": "33811345-7e9d-442f-e0db-ed438c34be1d"
      },
      "outputs": [
        {
          "output_type": "stream",
          "name": "stdout",
          "text": [
            "﻿幣別 : 現金\n",
            "USD : 32.95500\n",
            "HKD : 4.25600\n",
            "GBP : 41.93000\n",
            "AUD : 20.77000\n",
            "CAD : 23.15000\n",
            "SGD : 24.39000\n",
            "CHF : 36.70000\n",
            "JPY : 0.21160\n",
            "ZAR : 0.00000\n",
            "SEK : 0.00000\n",
            "NZD : 18.82000\n",
            "THB : 1.01910\n",
            "PHP : 0.62470\n",
            "IDR : 0.00238\n",
            "EUR : 34.53000\n",
            "KRW : 0.02454\n",
            "VND : 0.00147\n",
            "MYR : 7.78400\n",
            "CNY : 4.54000\n"
          ]
        }
      ],
      "source": [
        "import requests\n",
        "\n",
        "# 目標網址 (台灣銀行匯率 CSV 資料)\n",
        "url = 'https://rate.bot.com.tw/xrt/flcsv/0/day'\n",
        "\n",
        "# 發送 GET 請求並取得匯率資料\n",
        "rate = requests.get(url)\n",
        "rate.encoding = 'utf-8'  # 設置編碼避免亂碼\n",
        "\n",
        "# 解析回傳資料\n",
        "rts = rate.text.split('\\n')  # 依換行符號分割成多行\n",
        "\n",
        "# 資料處理與輸出\n",
        "for i in rts:\n",
        "    try:\n",
        "        # 以逗號分割每行資料\n",
        "        a = i.split(',')\n",
        "\n",
        "        # 確認資料行長度，避免索引錯誤\n",
        "        if len(a) > 12 and a[0]:\n",
        "            print(a[0] + ' : ' + a[12])  # 輸出貨幣代號和匯率\n",
        "    except Exception as e:\n",
        "        # 顯示錯誤訊息並繼續執行\n",
        "        print(f'解析錯誤: {i}, 錯誤訊息: {e}')\n"
      ]
    },
    {
      "cell_type": "code",
      "source": [],
      "metadata": {
        "id": "qK24m4_LsUaN"
      },
      "execution_count": null,
      "outputs": []
    }
  ]
}